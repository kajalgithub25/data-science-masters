{
 "cells": [
  {
   "cell_type": "markdown",
   "id": "4fb4aedd-d7a4-40bd-8844-bedba5f2066c",
   "metadata": {},
   "source": [
    "##### Q1. Explain Class and Object with respect to Object-Oriented Programming. Give a suitable example."
   ]
  },
  {
   "cell_type": "code",
   "execution_count": null,
   "id": "4946d7e8-4cee-48ed-8f59-2337127ff1f7",
   "metadata": {},
   "outputs": [],
   "source": [
    "In Object-Oriented Programming (OOP), a class is a blueprint or a template for creating objects,\n",
    "and an object is an instance of a class.\n",
    "\n",
    "Class:\n",
    "A class is a user-defined data type in OOP that defines a blueprint for objects.\n",
    "It encapsulates data (attributes) and behaviors (methods) that are common to all objects of that type.\n",
    "It serves as a blueprint for creating objects with specific characteristics and functionalities.\n",
    "\n",
    "Object:\n",
    "An object is an instance of a class. It is a concrete entity created from the class, possessing the attributes \n",
    "and behaviors defined in the class. Objects are used to model and interact with real-world entities in a program."
   ]
  },
  {
   "cell_type": "code",
   "execution_count": 18,
   "id": "eb291c4c-a8f4-45b4-aaa6-c723a88866e6",
   "metadata": {},
   "outputs": [
    {
     "name": "stdout",
     "output_type": "stream",
     "text": [
      "Name: Kajal, Age: 23, Phone_No: 6200520605\n"
     ]
    }
   ],
   "source": [
    "#### Example\n",
    "\n",
    "class Details:\n",
    "    def __init__(self, name, age, phone_no):\n",
    "        self.name = name\n",
    "        self.age = age\n",
    "        self.phone_no = phone_no\n",
    "\n",
    "\n",
    "    def display_info(self):\n",
    "        print(f\"Name: {self.name}, Age: {self.age}, Phone_No: {self.phone_no}\")\n",
    "        \n",
    "Student1 = Details(\"Kajal\", 23, 6200520605)\n",
    "Student1.display_info()"
   ]
  },
  {
   "cell_type": "markdown",
   "id": "3863f681-efc8-496f-b874-3ea184b9783a",
   "metadata": {},
   "source": [
    "##### Q2. Name the four pillars of OOPs."
   ]
  },
  {
   "cell_type": "code",
   "execution_count": null,
   "id": "8bf8edbb-d6f4-48d6-92a4-3906da89e7b7",
   "metadata": {},
   "outputs": [],
   "source": [
    "Pillars form the core principles of OOP in Python, providing a foundation for designing modular, reusable, and maintainable code\n",
    "The four pillars of Object-Oriented Programming (OOP) are:\n",
    "    1-Encapsulation: encapsulation is implemented through the use of classes.\n",
    "    Attributes are defined within a class, and access to them is controlled by using private and public modifiers.\n",
    "    \n",
    "    2-Abstraction:Abstraction is implemented by creating abstract classes and abstract methods. \n",
    "    Python also supports abstract base classes through the ABC module.\n",
    "    \n",
    "    3-Inheritance:Inheritance is achieved using the syntax class DerivedClass(BaseClass):. \n",
    "    The derived class inherits attributes and methods from the base class.\n",
    "    \n",
    "    4-Polymorphism:Polymorphism is demonstrated through method overriding and duck typing. \n",
    "    Method overriding involves providing a specific implementation for a method in the subclass, \n",
    "    while duck typing allows objects to be used based on their behavior rather than their type."
   ]
  },
  {
   "cell_type": "markdown",
   "id": "a1e62c54-91e9-40a7-86df-08e06bf001bb",
   "metadata": {},
   "source": [
    "##### Q3. Explain why the __init__() function is used. Give a suitable example."
   ]
  },
  {
   "cell_type": "code",
   "execution_count": null,
   "id": "7fdf49bb-9a2d-4932-a0b0-a6d9a5e604e9",
   "metadata": {},
   "outputs": [],
   "source": [
    "The __init__() function in Python is a special method that is automatically called when an object of a class is created. \n",
    "It is commonly used to initialize the attributes of the object, providing a way to set initial values for the object's state.\n",
    "The name __init__ stands for \"initialize.\""
   ]
  },
  {
   "cell_type": "code",
   "execution_count": 19,
   "id": "68ef672c-9e43-4feb-995d-8926eae28bb9",
   "metadata": {},
   "outputs": [
    {
     "name": "stdout",
     "output_type": "stream",
     "text": [
      "Name: Kajal, Product_Id: 252, Phone_No: 6200520605\n"
     ]
    }
   ],
   "source": [
    "#### Example\n",
    "\n",
    "class Details:\n",
    "    def __init__(self, name, product_id,  phone_no):\n",
    "        self.name = name\n",
    "        self. product_id =  product_id\n",
    "        self.phone_no = phone_no\n",
    "\n",
    "\n",
    "    def display_info(self):\n",
    "        print(f\"Name: {self.name}, Product_Id: {self.product_id}, Phone_No: {self.phone_no}\")\n",
    "        \n",
    "Costumer = Details(\"Kajal\", 252, 6200520605)\n",
    "Costumer.display_info()"
   ]
  },
  {
   "cell_type": "markdown",
   "id": "5ddef112-25b1-4f79-afd5-b903051b19de",
   "metadata": {},
   "source": [
    "##### Q4. Why self is used in OOPs?"
   ]
  },
  {
   "cell_type": "code",
   "execution_count": null,
   "id": "c096d4f6-66e5-454e-a52b-5855b7704025",
   "metadata": {},
   "outputs": [],
   "source": [
    "In Object-Oriented Programming (OOP), self is a convention used in many programming languages, including Python, to represent the instance of the class. It is the first parameter that must be included in the method definition,\n",
    "although it is not explicitly passed when calling the method."
   ]
  },
  {
   "cell_type": "code",
   "execution_count": null,
   "id": "3d9d87dc-65a2-406b-b8c6-98cdbb392fcc",
   "metadata": {},
   "outputs": [],
   "source": []
  },
  {
   "cell_type": "markdown",
   "id": "010559ba-81b9-436c-a068-9ebb18f1b790",
   "metadata": {},
   "source": [
    "##### Q5. What is inheritance? Give an example for each type of inheritance."
   ]
  },
  {
   "cell_type": "code",
   "execution_count": null,
   "id": "b1a56757-03e5-434e-8167-04986c6e9973",
   "metadata": {},
   "outputs": [],
   "source": [
    "Inheritance is defined as the mechanism of inheriting the properties of the base class to the child class.\n",
    "Inheritance allows us to define a class that inherits all the methods and properties from another class.\n",
    "Parent class is the class being inherited from, also called base class. \n",
    "Child class is the class that inherits from another class, also called derived class."
   ]
  },
  {
   "cell_type": "code",
   "execution_count": null,
   "id": "c9dea23b-7d28-43a1-a5df-67980bd5dd46",
   "metadata": {},
   "outputs": [],
   "source": [
    "There are three types of inheritance :\n",
    "    1-Single Inheritance\n",
    "    2-Mulitple Inheritance\n",
    "    3-Multilevel Inheritance"
   ]
  },
  {
   "cell_type": "code",
   "execution_count": 11,
   "id": "b63d66c5-7eda-499c-917d-aa37e051f6f1",
   "metadata": {},
   "outputs": [
    {
     "name": "stdout",
     "output_type": "stream",
     "text": [
      "Animal can speak\n",
      "Dog barks\n"
     ]
    }
   ],
   "source": [
    "#### Example of Single Inheritance\n",
    "\n",
    "class Animal:\n",
    "    def speak(self):\n",
    "        print(\"Animal can speak\")\n",
    "        \n",
    "class Dog(Animal):\n",
    "    def bark(self):\n",
    "        print(\"Dog barks\") \n",
    "\n",
    "my_dog = Dog()\n",
    "my_dog.speak()\n",
    "my_dog.bark()"
   ]
  },
  {
   "cell_type": "code",
   "execution_count": 12,
   "id": "769d7178-1930-48f1-89b3-9bd1a0981eff",
   "metadata": {},
   "outputs": [
    {
     "name": "stdout",
     "output_type": "stream",
     "text": [
      "Can fly\n",
      "Can swim\n"
     ]
    }
   ],
   "source": [
    "#### Example of Multiple Inheritance\n",
    "class Flyable:\n",
    "    def fly(self):\n",
    "        print(\"Can fly\")\n",
    "\n",
    "class Swimmable:\n",
    "    def swim(self):\n",
    "        print(\"Can swim\")\n",
    "\n",
    "class FlyingFish(Flyable, Swimmable):\n",
    "    pass\n",
    "\n",
    "my_fish = FlyingFish()\n",
    "my_fish.fly()\n",
    "my_fish.swim()"
   ]
  },
  {
   "cell_type": "code",
   "execution_count": 9,
   "id": "c93e1d48-1ce4-4495-b73a-a30c51219a31",
   "metadata": {},
   "outputs": [
    {
     "name": "stdout",
     "output_type": "stream",
     "text": [
      "Vehicle started\n",
      "Car is being driven\n",
      "Sports car is racing\n"
     ]
    }
   ],
   "source": [
    "#### Example of Multilevel Inheritance\n",
    "class Vehicle:\n",
    "    def start(self):\n",
    "        print(\"Vehicle started\")\n",
    "\n",
    "class Car(Vehicle):\n",
    "    def drive(self):\n",
    "        print(\"Car is being driven\")\n",
    "\n",
    "class SportsCar(Car):\n",
    "    def race(self):\n",
    "        print(\"Sports car is racing\")\n",
    "\n",
    "my_sports_car = SportsCar()\n",
    "my_sports_car.start()\n",
    "my_sports_car.drive()\n",
    "my_sports_car.race()"
   ]
  }
 ],
 "metadata": {
  "kernelspec": {
   "display_name": "Python 3 (ipykernel)",
   "language": "python",
   "name": "python3"
  },
  "language_info": {
   "codemirror_mode": {
    "name": "ipython",
    "version": 3
   },
   "file_extension": ".py",
   "mimetype": "text/x-python",
   "name": "python",
   "nbconvert_exporter": "python",
   "pygments_lexer": "ipython3",
   "version": "3.10.8"
  }
 },
 "nbformat": 4,
 "nbformat_minor": 5
}
