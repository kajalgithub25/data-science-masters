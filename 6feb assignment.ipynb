{
 "cells": [
  {
   "cell_type": "markdown",
   "id": "5d402fc7-cd99-4fc6-a22b-18ed7d260650",
   "metadata": {},
   "source": [
    "Q1. Create a function which will take a list as an argument and return the product of all the numbers\n",
    "after creating a flat list.\n",
    "\n",
    "\n",
    "Use the below-given list as an argument for your function.\n",
    "\n",
    "\n",
    "list1 = [1,2,3,4, [44,55,66, True], False, (34,56,78,89,34), {1,2,3,3,2,1}, {1:34, \"key2\": [55, 67, 78, 89], 4: (45,\n",
    "22, 61, 34)}, [56, 'data science'], 'Machine Learning']\n",
    "Note: you must extract numeric keys and values of the dictionary also.\n",
    "\n"
   ]
  },
  {
   "cell_type": "code",
   "execution_count": 3,
   "id": "fee6856e-8adc-459b-8e5b-d00dbefc1639",
   "metadata": {},
   "outputs": [
    {
     "name": "stdout",
     "output_type": "stream",
     "text": [
      "0\n"
     ]
    }
   ],
   "source": [
    "def product_of_flat_list(lst):\n",
    "    flat_list = []\n",
    "\n",
    "\n",
    "    def flatten(item):\n",
    "        if isinstance(item, (list, tuple, set)):\n",
    "            for subitem in item:\n",
    "                flatten(subitem)\n",
    "        elif isinstance(item, dict):\n",
    "            for key, value in item.items():\n",
    "                flatten(key)\n",
    "                flatten(value)\n",
    "        elif isinstance(item, (int, float)):\n",
    "            flat_list.append(item)\n",
    "        \n",
    "\n",
    "    flatten(lst)\n",
    "    \n",
    "    product = 1\n",
    "    for num in flat_list:\n",
    "        product *= num\n",
    "\n",
    "    return product\n",
    "list1 = [1, 2, 3, 4, [44, 55, 66, True], False, (34, 56, 78, 89, 34), {1, 2, 3, 3, 2, 1}, {1:34, \"key2\": [55, 67, 78, 89], 4: (45, 22, 61, 34)}, [56, 'data science'], 'Machine Learning']\n",
    "result = product_of_flat_list(list1)\n",
    "print(result)"
   ]
  },
  {
   "cell_type": "markdown",
   "id": "f0a5de48-d707-4a49-8b69-40298b014af3",
   "metadata": {},
   "source": [
    "Write a python program for encrypting a message sent to you by your friend. The logic of encryption\n",
    "should be such that, for a the output should be z. For b, the output should be y. For c, the output should\n",
    "be x respectively. Also, the whitespace should be replaced with a dollar sign. Keep the punctuation\n",
    "marks unchanged.\n",
    "\n",
    "\n",
    "Input Sentence: I want to become a Data Scientist.\n",
    "\n",
    "\n",
    "Encrypt the above input sentence using the program you just created.\n",
    "\n",
    "\n",
    "Note: Convert the given input sentence into lowercase before encrypting. The final output should be\n",
    "lowercase."
   ]
  },
  {
   "cell_type": "code",
   "execution_count": null,
   "id": "6f22258f-0aa0-45e9-aaf7-4724d189d689",
   "metadata": {},
   "outputs": [],
   "source": [
    "def encrypt_message(message):\n",
    "    encrypted_text = \"\"\n",
    "    for char in message:\n",
    "        if char.isalpha():\n",
    "            encrypted_char = chr(ord('a') + (ord('z') - ord(char.lower())))\n",
    "            encrypted_text += encrypted_char\n",
    "        elif char.isspace():\n",
    "            encrypted_text += '$'\n",
    "        else:\n",
    "            encrypted_text += char\n",
    "\n",
    "    return encrypted_text\n",
    "input_sentence = \"I want to become a Data Scientist.\"\n",
    "encrypted_message = encrypt_message(input_sentence.lower())\n"
   ]
  },
  {
   "cell_type": "code",
   "execution_count": null,
   "id": "a829fb59-92f8-4622-a8e7-0e0376792911",
   "metadata": {},
   "outputs": [],
   "source": []
  }
 ],
 "metadata": {
  "kernelspec": {
   "display_name": "Python 3 (ipykernel)",
   "language": "python",
   "name": "python3"
  },
  "language_info": {
   "codemirror_mode": {
    "name": "ipython",
    "version": 3
   },
   "file_extension": ".py",
   "mimetype": "text/x-python",
   "name": "python",
   "nbconvert_exporter": "python",
   "pygments_lexer": "ipython3",
   "version": "3.10.8"
  }
 },
 "nbformat": 4,
 "nbformat_minor": 5
}
