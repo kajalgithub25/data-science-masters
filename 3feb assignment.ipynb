{
 "cells": [
  {
   "cell_type": "markdown",
   "id": "830b6163-ae84-4093-9c30-0eee60d1be63",
   "metadata": {},
   "source": [
    "##### Which keyword is used to create function? Create a function to return a list of odd numbers in the range of 1-25"
   ]
  },
  {
   "cell_type": "code",
   "execution_count": null,
   "id": "e9bdcdcb-c770-4f70-b8da-8a3efb10fa5e",
   "metadata": {},
   "outputs": [],
   "source": [
    "The def keyword is used to create, (or define) a function."
   ]
  },
  {
   "cell_type": "code",
   "execution_count": 17,
   "id": "93813746-fc16-4aeb-befb-5f7ec3f80c89",
   "metadata": {},
   "outputs": [
    {
     "name": "stdout",
     "output_type": "stream",
     "text": [
      "[1, 3, 5, 7, 9, 11, 13, 15, 17, 19, 21, 23, 25]\n"
     ]
    }
   ],
   "source": [
    "#### fuction for the list of odd numbers-\n",
    "\n",
    "def odd_numbers(n):\n",
    "    return[x for x in range(n+1) if x % 2 == 1]\n",
    "\n",
    "print(odd_numbers(25))\n"
   ]
  },
  {
   "cell_type": "code",
   "execution_count": 15,
   "id": "7f752309-9433-41df-b580-445abcf4d508",
   "metadata": {},
   "outputs": [],
   "source": [
    "##### Why *args and **kwargs used in some functions? Create a function each for *args and **kwargs for demonstrate their use"
   ]
  },
  {
   "cell_type": "code",
   "execution_count": null,
   "id": "3e63e55c-c934-442b-8ca0-3790cc1a00b5",
   "metadata": {},
   "outputs": [],
   "source": [
    "We use *args and **kwargs as an argument when we are unsure about the number of arguments to pass in the functions.\n",
    "*argd-The special syntax *args in function definitions in Python is used to pass a variable number of arguments to a function.\n",
    "It is used to pass a non-keyworded, variable-length argument list. \n",
    "**kwargs-The special syntax **kwargs in function definitions in Python is used to pass a keyworded, variable-length argument list.\n",
    "We use the name kwargs with the double star.\n",
    "The reason is that the double star allows us to pass through keyword arguments (and any number of them)."
   ]
  },
  {
   "cell_type": "code",
   "execution_count": 4,
   "id": "601ca408-3318-4bac-b963-8d15781269ef",
   "metadata": {},
   "outputs": [],
   "source": [
    "##### Example *args-\n",
    "def t1(*args):\n",
    "    return args"
   ]
  },
  {
   "cell_type": "code",
   "execution_count": 5,
   "id": "77bd0483-37af-4671-a5f6-e746d798593c",
   "metadata": {},
   "outputs": [
    {
     "data": {
      "text/plain": [
       "(5, 7, 8, 9, 'data science masters')"
      ]
     },
     "execution_count": 5,
     "metadata": {},
     "output_type": "execute_result"
    }
   ],
   "source": [
    "t1(5,7,8,9,\"data science masters\")"
   ]
  },
  {
   "cell_type": "code",
   "execution_count": 10,
   "id": "3a8eabc7-dd89-4e51-9724-4b2d2151608b",
   "metadata": {},
   "outputs": [],
   "source": [
    "def t2(**kwargs):\n",
    "    return kwargs"
   ]
  },
  {
   "cell_type": "code",
   "execution_count": 12,
   "id": "6aa0e019-866a-4140-9c00-6280e0b64dec",
   "metadata": {},
   "outputs": [
    {
     "data": {
      "text/plain": [
       "{'Even': [2, 4, 6, 8, 10], 'odd': [1, 3, 5, 7, 9], 'prime': [2, 3, 5, 7, 11]}"
      ]
     },
     "execution_count": 12,
     "metadata": {},
     "output_type": "execute_result"
    }
   ],
   "source": [
    "t2(Even=[2,4,6,8,10],odd=[1,3,5,7,9],prime=[2,3,5,7,11])"
   ]
  },
  {
   "cell_type": "markdown",
   "id": "9c443fa4-4212-469f-b517-8a62b0803158",
   "metadata": {},
   "source": [
    "##### What is iterator in python? Name the method used to initialise the iterator object and the method used for iteration . use these methods to print the first five elements of the given list."
   ]
  },
  {
   "cell_type": "code",
   "execution_count": null,
   "id": "d9c0b309-1fc5-4ce6-9851-6efa576864f8",
   "metadata": {},
   "outputs": [],
   "source": [
    "An iterator is an object that contains a countable number of values. An iterator is an object that can be iterated upon, \n",
    "meaning that you can traverse through all the values. Technically, in Python,\n",
    "an iterator is an object which implements the iterator protocol, which consist of the methods __iter__() and __next__() .\n",
    "an iterator is an object that allows you to iterate over collections of data, such as lists, tuples, dictionaries, and sets.\n",
    "Python iterators implement the iterator design pattern, \n",
    "which allows you to traverse a container and access its elements.\n",
    "\n",
    "Iter() method is used to initialize the iterator object so that the instance of this object can be used for iterating\n",
    "next() method is used for iteration."
   ]
  },
  {
   "cell_type": "code",
   "execution_count": 18,
   "id": "1d274d46-c549-4813-8c78-d1f4e67a5f26",
   "metadata": {},
   "outputs": [],
   "source": [
    "#### Example\n",
    "giv_list=[2,4,6,8,10,12,14,16,18,20]"
   ]
  },
  {
   "cell_type": "code",
   "execution_count": 20,
   "id": "d0966de4-479a-4446-afab-c5512c6d2fbe",
   "metadata": {},
   "outputs": [
    {
     "name": "stdout",
     "output_type": "stream",
     "text": [
      "2\n",
      "4\n",
      "6\n",
      "8\n",
      "10\n"
     ]
    }
   ],
   "source": [
    "l=iter(giv_list)\n",
    "print(next(l))\n",
    "print(next(l))\n",
    "print(next(l))\n",
    "print(next(l))\n",
    "print(next(l))\n"
   ]
  },
  {
   "cell_type": "markdown",
   "id": "d33548d5-55eb-4532-8716-f62bb8230134",
   "metadata": {},
   "source": [
    "##### What is generator function in python? Why yield keyword is used? Give an example of a generator function."
   ]
  },
  {
   "cell_type": "code",
   "execution_count": null,
   "id": "e107140d-0b2a-4f1e-8c1b-0e8fccfe93ff",
   "metadata": {},
   "outputs": [],
   "source": [
    "A generator is a function that returns an iterator that produces a sequence of values when iterated over.\n",
    "Generators are useful when we want to produce a large sequence of values, \n",
    "but we don't want to store all of them in memory at once.\n",
    "They allow you to define an iterative algorithm by writing a single function whose execution is not continuous.\n",
    "\n",
    "The yield keyword is used to produce a value from the generator and pause the generator function's execution until the next\n",
    "value is requested."
   ]
  },
  {
   "cell_type": "code",
   "execution_count": 13,
   "id": "992fa574-8c52-4502-80a8-472d290446b8",
   "metadata": {},
   "outputs": [
    {
     "name": "stdout",
     "output_type": "stream",
     "text": [
      "[0, 1, 2, 3, 4, 5, 6, 7, 8, 9]\n"
     ]
    }
   ],
   "source": [
    "x=(n for n in range(10))\n",
    "print(list(x))"
   ]
  },
  {
   "cell_type": "markdown",
   "id": "35657c87-e728-4c9c-82bc-6abbf8a0bc31",
   "metadata": {},
   "source": [
    "##### Create a generator function for prime numbers less than 1000.Use next() method to print the first 20 peime numbers."
   ]
  },
  {
   "cell_type": "code",
   "execution_count": 20,
   "id": "0e0434a3-381b-4ce3-b709-fabc034b2ff5",
   "metadata": {},
   "outputs": [
    {
     "name": "stdout",
     "output_type": "stream",
     "text": [
      "2\n",
      "3\n",
      "5\n",
      "7\n",
      "11\n",
      "13\n",
      "17\n",
      "19\n",
      "23\n",
      "29\n",
      "31\n",
      "37\n",
      "41\n",
      "43\n",
      "47\n",
      "53\n",
      "59\n",
      "61\n",
      "67\n",
      "71\n"
     ]
    }
   ],
   "source": [
    "from math import sqrt\n",
    "\n",
    "def is_prime(n):\n",
    "    if (n <= 1):\n",
    "        return False\n",
    "    if (n == 2):\n",
    "        return True\n",
    "    if (n % 2 == 0):\n",
    "        return False\n",
    "\n",
    "    i = 3\n",
    "    while i <= sqrt(n):\n",
    "        if n % i == 0:\n",
    "            return False\n",
    "        i = i + 2\n",
    "\n",
    "    return True\n",
    "def prime_generator():\n",
    "    n = 1\n",
    "    while True:\n",
    "        n += 1\n",
    "        if is_prime(n):\n",
    "            yield n\n",
    "            \n",
    "generator = prime_generator()\n",
    "\n",
    "for i in range(20):\n",
    "    print(next(generator))\n",
    "    \n",
    "from itertools import islice\n",
    "\n",
    "array = [x for x in islice(prime_generator(), 20)]"
   ]
  },
  {
   "cell_type": "code",
   "execution_count": null,
   "id": "42871b27-4103-45c8-8bc8-d771baaee181",
   "metadata": {},
   "outputs": [],
   "source": []
  }
 ],
 "metadata": {
  "kernelspec": {
   "display_name": "Python 3 (ipykernel)",
   "language": "python",
   "name": "python3"
  },
  "language_info": {
   "codemirror_mode": {
    "name": "ipython",
    "version": 3
   },
   "file_extension": ".py",
   "mimetype": "text/x-python",
   "name": "python",
   "nbconvert_exporter": "python",
   "pygments_lexer": "ipython3",
   "version": "3.10.8"
  }
 },
 "nbformat": 4,
 "nbformat_minor": 5
}
