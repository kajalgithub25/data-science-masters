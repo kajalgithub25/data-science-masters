{
 "cells": [
  {
   "cell_type": "markdown",
   "id": "5b36b292-da1c-412a-84eb-cf7c7e40fcf7",
   "metadata": {},
   "source": [
    "##### Write a program to accept percentage from the user and display grade according to the following criteria:"
   ]
  },
  {
   "cell_type": "code",
   "execution_count": 18,
   "id": "30d0e0cd-4c7b-425c-9208-53bf9b935eaf",
   "metadata": {},
   "outputs": [
    {
     "name": "stdin",
     "output_type": "stream",
     "text": [
      "Marks: 70\n"
     ]
    },
    {
     "name": "stdout",
     "output_type": "stream",
     "text": [
      "Grade C\n"
     ]
    }
   ],
   "source": [
    "marks=int(input(\"Marks:\"))\n",
    "\n",
    "if marks > 90:\n",
    "    print(\"Grade A\")\n",
    "elif marks > 80 and marks <= 90:\n",
    "    print(\"Grade B\")\n",
    "elif marks >= 60 and marks <= 80:\n",
    "    print(\"Grade C\")\n",
    "else:\n",
    "    print(\"Grade D\")\n"
   ]
  },
  {
   "cell_type": "markdown",
   "id": "9f38006c-eb4e-4687-8a90-874dce5a8eef",
   "metadata": {},
   "source": [
    "##### Write a program to accept the cost price and display road tax to be paid according to the following criteria:"
   ]
  },
  {
   "cell_type": "code",
   "execution_count": 21,
   "id": "991817bb-9742-4260-89fa-80371e0235a1",
   "metadata": {},
   "outputs": [
    {
     "name": "stdin",
     "output_type": "stream",
     "text": [
      "Cost Price: 50000\n"
     ]
    },
    {
     "name": "stdout",
     "output_type": "stream",
     "text": [
      "Road Tax to be paid: 2500.0\n"
     ]
    }
   ],
   "source": [
    "cost_price=int(input(\"Cost Price:\"))\n",
    "road_tax=0\n",
    "\n",
    "if cost_price > 100000:\n",
    "    road_tax=cost_price*0.15\n",
    "\n",
    "elif cost_price > 50000 and cost_price <= 100000:\n",
    "    road_tax=cost_price*0.10\n",
    "else:\n",
    "    road_tax=cost_price*.05\n",
    "print(\"Road Tax to be paid:\",road_tax)\n",
    "\n"
   ]
  },
  {
   "cell_type": "markdown",
   "id": "ac5c668a-1f46-421e-a55c-5de2dc089037",
   "metadata": {},
   "source": [
    "##### Accept the any city from the user and display monument of that city:"
   ]
  },
  {
   "cell_type": "code",
   "execution_count": 24,
   "id": "239e539f-8da1-4ba6-a654-bdc7df8903fd",
   "metadata": {},
   "outputs": [
    {
     "name": "stdin",
     "output_type": "stream",
     "text": [
      "Enter the city name: Jaipur\n"
     ]
    },
    {
     "name": "stdout",
     "output_type": "stream",
     "text": [
      "Monument=Jal Mahal\n"
     ]
    }
   ],
   "source": [
    "city=str(input(\"Enter the city name:\"))\n",
    "\n",
    "if city == \"Delhi\":\n",
    "    print(\"Monument=Red Fort\")\n",
    "elif city == \"Aagra\":\n",
    "    print(\"Monument=Taj Mahal\")\n",
    "elif city == \"Jaipur\":\n",
    "    print(\"Monument=Jal Mahal\")\n",
    "else:\n",
    "    print(\"No record Found\")\n",
    "\n"
   ]
  },
  {
   "cell_type": "markdown",
   "id": "7ebde591-2468-45cb-9a2b-b9afbb55da80",
   "metadata": {},
   "source": [
    "##### Check how many times given number can be divided by 3 before it is less than or equal to 10:"
   ]
  },
  {
   "cell_type": "code",
   "execution_count": 20,
   "id": "30990841-02d7-4f0b-b473-6957e36cd33d",
   "metadata": {},
   "outputs": [
    {
     "name": "stdout",
     "output_type": "stream",
     "text": [
      "{} is divided by 3 1\n",
      "{} is divided by 3 2\n",
      "{} is divided by 3 3\n",
      "{} is divided by 3 4\n"
     ]
    }
   ],
   "source": [
    "num=270\n",
    "count=0\n",
    "while num>=10:\n",
    "    num=num / 3\n",
    "    count= count + 1\n",
    "    print(\"{} is divided by 3\",count)"
   ]
  },
  {
   "cell_type": "markdown",
   "id": "bfca96e7-c24f-4809-b566-d136b4d34b4c",
   "metadata": {},
   "source": [
    "##### Why and when to use while loop in python give a detailed description with examples:"
   ]
  },
  {
   "cell_type": "markdown",
   "id": "bc062fc1-7da4-44e3-a770-987a19029c83",
   "metadata": {},
   "source": [
    "##### While loop is an indefinite itteration that is used when a loop repeats unkown number of times and end when some condition is met.While loop statements in Python are used to repeatedly execute a certain statement as long as the condition provided in the while loop statement stays true. While loops let the program control to iterate over a block of code.A \"While\" Loop is used to repeat a specific block of code an unknown number of times, until a condition is met. For example, if we want to ask a user for a number between 1 and 10, we don't know how many times the user may enter a larger number, so we keep asking \"while the number is not between 1 and 10\".The program first evaluates the while loop condition. If it’s true, then the program enters the loop and executes the body of the while loop. It continues to execute the body of the while loop as long as the condition is true. When it is false, the program comes out of the loop and stops repeating the body of the while loop."
   ]
  },
  {
   "cell_type": "code",
   "execution_count": 3,
   "id": "2ab8a654-5cb1-4146-9eb8-d472fde2b79a",
   "metadata": {},
   "outputs": [
    {
     "name": "stdout",
     "output_type": "stream",
     "text": [
      "1\n",
      "2\n",
      "3\n",
      "4\n",
      "5\n"
     ]
    }
   ],
   "source": [
    "# For Example:\n",
    "## Program to display number 1 to 5\n",
    "i=1\n",
    "n=5\n",
    "\n",
    "while i <= n:\n",
    "    print(i)\n",
    "    i= i + 1"
   ]
  },
  {
   "cell_type": "code",
   "execution_count": 17,
   "id": "3b9a4071-5884-4c7b-98b5-c3db5421c33c",
   "metadata": {},
   "outputs": [
    {
     "name": "stdout",
     "output_type": "stream",
     "text": [
      "2\n",
      "4\n",
      "6\n",
      "8\n",
      "10\n",
      "12\n",
      "14\n",
      "16\n",
      "18\n",
      "20\n"
     ]
    }
   ],
   "source": [
    "# For Example:\n",
    "## Program to display 2 table till 20\n",
    "i=2\n",
    "n=20\n",
    "\n",
    "while i <= n:\n",
    "    print(i)\n",
    "    i= i + 2"
   ]
  },
  {
   "cell_type": "markdown",
   "id": "2b700f21-f45f-4cb2-a84e-f89e98aa1a9f",
   "metadata": {},
   "source": [
    "##### Use nested loop to print 3 different patterns:"
   ]
  },
  {
   "cell_type": "markdown",
   "id": "3fcc5b1d-207a-4a13-b742-1078f2fa8bde",
   "metadata": {
    "jupyter": {
     "source_hidden": true
    },
    "tags": []
   },
   "source": [
    "##### Use nested while loop to print 3 different pattern:"
   ]
  },
  {
   "cell_type": "code",
   "execution_count": 13,
   "id": "67c305ec-bcfd-45bb-b076-3653ce59ebdf",
   "metadata": {},
   "outputs": [
    {
     "name": "stdin",
     "output_type": "stream",
     "text": [
      "Enter a number: 15\n"
     ]
    },
    {
     "name": "stdout",
     "output_type": "stream",
     "text": [
      "* \n",
      "* * \n",
      "* * * \n",
      "* * * * \n",
      "* * * * * \n",
      "* * * * * * \n",
      "* * * * * * * \n",
      "* * * * * * * * \n",
      "* * * * * * * * * \n",
      "* * * * * * * * * * \n",
      "* * * * * * * * * * * \n",
      "* * * * * * * * * * * * \n",
      "* * * * * * * * * * * * * \n",
      "* * * * * * * * * * * * * * \n",
      "* * * * * * * * * * * * * * * \n"
     ]
    }
   ],
   "source": [
    "n= int(input(\"Enter a number:\"))\n",
    "i= 1\n",
    "while i <= n:\n",
    "    j=1\n",
    "    while j <= i:\n",
    "        print(\"*\", end =\" \")\n",
    "        j += 1\n",
    "    print()\n",
    "    i += 1"
   ]
  },
  {
   "cell_type": "code",
   "execution_count": 12,
   "id": "af044f7a-6fbe-491e-8fc9-1fc40ad49c40",
   "metadata": {},
   "outputs": [
    {
     "name": "stdin",
     "output_type": "stream",
     "text": [
      "Enter a number: 12\n"
     ]
    },
    {
     "name": "stdout",
     "output_type": "stream",
     "text": [
      "* * * * * * * * * * * * \n",
      "* * * * * * * * * * * \n",
      "* * * * * * * * * * \n",
      "* * * * * * * * * \n",
      "* * * * * * * * \n",
      "* * * * * * * \n",
      "* * * * * * \n",
      "* * * * * \n",
      "* * * * \n",
      "* * * \n",
      "* * \n",
      "* \n"
     ]
    }
   ],
   "source": [
    "n= int(input(\"Enter a number:\"))\n",
    "i= 1\n",
    "while i <= n:\n",
    "    j=n\n",
    "    while j >= i:\n",
    "        print(\"*\", end =\" \")\n",
    "        j -= 1\n",
    "    print()\n",
    "    i += 1"
   ]
  },
  {
   "cell_type": "code",
   "execution_count": 11,
   "id": "1bfea55e-f1fb-47ad-9da6-9d35b7be9408",
   "metadata": {},
   "outputs": [
    {
     "name": "stdin",
     "output_type": "stream",
     "text": [
      "Enter a number: 10\n"
     ]
    },
    {
     "name": "stdout",
     "output_type": "stream",
     "text": [
      "         *\n",
      "         **\n",
      "         ***\n",
      "         ****\n",
      "         *****\n",
      "         ******\n",
      "         *******\n",
      "         ********\n",
      "         *********\n",
      "         **********\n"
     ]
    }
   ],
   "source": [
    "n= int(input(\"Enter a number:\"))\n",
    "i= 1\n",
    "while i <= n:\n",
    "    print(\" \"*(n-1) + \"*\" * i)\n",
    "    i += 1"
   ]
  },
  {
   "cell_type": "markdown",
   "id": "9255739d-aa75-4d8f-9686-230e9cdf2827",
   "metadata": {},
   "source": [
    "##### Reverse a while loop to display numbers from 10 to 1."
   ]
  },
  {
   "cell_type": "code",
   "execution_count": 10,
   "id": "bd475692-8662-43cf-8ae2-393a76a8db5d",
   "metadata": {},
   "outputs": [
    {
     "name": "stdout",
     "output_type": "stream",
     "text": [
      "The reverse number is:1\n",
      "The reverse number is:12\n",
      "The reverse number is:123\n",
      "The reverse number is:1234\n",
      "The reverse number is:12345\n",
      "The reverse number is:123456\n",
      "The reverse number is:1234567\n",
      "The reverse number is:12345678\n",
      "The reverse number is:123456789\n",
      "The reverse number is:1234567890\n",
      "The reverse number is:12345678901\n"
     ]
    }
   ],
   "source": [
    "num=10987654321\n",
    "revs_number=0\n",
    "while(num>0):\n",
    "    digit = num % 10  \n",
    "    revs_number = (revs_number * 10) + digit\n",
    "    num = num // 10\n",
    "    print(\"The reverse number is:{}\".format(revs_number))\n",
    "    "
   ]
  },
  {
   "cell_type": "markdown",
   "id": "9df80efa-4a09-4e32-97c9-632b8077eb22",
   "metadata": {},
   "source": [
    "##### Reverse a while loop to display numbers from 10 to 1."
   ]
  },
  {
   "cell_type": "code",
   "execution_count": 9,
   "id": "cfefd0ac-857f-4357-80f1-e7e0a3d7e5e7",
   "metadata": {},
   "outputs": [
    {
     "name": "stdin",
     "output_type": "stream",
     "text": [
      "Enter a number: 10987654321\n"
     ]
    },
    {
     "name": "stdout",
     "output_type": "stream",
     "text": [
      "The reverse number is:1\n",
      "The reverse number is:12\n",
      "The reverse number is:123\n",
      "The reverse number is:1234\n",
      "The reverse number is:12345\n",
      "The reverse number is:123456\n",
      "The reverse number is:1234567\n",
      "The reverse number is:12345678\n",
      "The reverse number is:123456789\n",
      "The reverse number is:1234567890\n",
      "The reverse number is:12345678901\n"
     ]
    }
   ],
   "source": [
    "num=int(input(\"Enter a number:\"))\n",
    "revs_number=0\n",
    "while(num>0):\n",
    "    digit = num % 10  \n",
    "    revs_number = (revs_number * 10) + digit\n",
    "    num = num // 10\n",
    "    print(\"The reverse number is:{}\".format(revs_number))\n",
    "    "
   ]
  }
 ],
 "metadata": {
  "kernelspec": {
   "display_name": "Python 3 (ipykernel)",
   "language": "python",
   "name": "python3"
  },
  "language_info": {
   "codemirror_mode": {
    "name": "ipython",
    "version": 3
   },
   "file_extension": ".py",
   "mimetype": "text/x-python",
   "name": "python",
   "nbconvert_exporter": "python",
   "pygments_lexer": "ipython3",
   "version": "3.10.8"
  }
 },
 "nbformat": 4,
 "nbformat_minor": 5
}
