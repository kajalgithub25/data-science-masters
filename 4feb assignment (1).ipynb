{
 "cells": [
  {
   "cell_type": "markdown",
   "id": "5511d004-b036-424c-a618-2d5829135d11",
   "metadata": {},
   "source": [
    "##### Create a python program to sort the given tuple list based on integer value using a lambda function."
   ]
  },
  {
   "cell_type": "code",
   "execution_count": 17,
   "id": "8b2dd829-9147-40d7-b618-30b4a92a511e",
   "metadata": {},
   "outputs": [
    {
     "name": "stdout",
     "output_type": "stream",
     "text": [
      "[('Virat Kohli', 24936), ('Jack Kallis', 25534), ('Ricky Ponting', 27483), ('Sachin Tendulkar', 34357)]\n",
      "None\n"
     ]
    }
   ],
   "source": [
    "l=[('Sachin Tendulkar',34357),('Ricky Ponting',27483),('Jack Kallis',25534),('Virat Kohli',24936)]\n",
    "l2=l.sort(key = lambda x: x[1])\n",
    "print(l)\n",
    "print(l2)"
   ]
  },
  {
   "cell_type": "markdown",
   "id": "269dc9ea-f3d6-4d3c-a82b-766755e84fdc",
   "metadata": {},
   "source": [
    "##### Writa a python program to find the squares of all the numbers in the given list of integers using lambda and map functions."
   ]
  },
  {
   "cell_type": "code",
   "execution_count": 8,
   "id": "d3a01608-3119-4596-a4f9-d1a567e2a02a",
   "metadata": {},
   "outputs": [
    {
     "name": "stdout",
     "output_type": "stream",
     "text": [
      "Given list: [1, 2, 3, 4, 5, 6, 7, 8, 9, 10]\n",
      "[1, 4, 9, 16, 25, 36, 49, 64, 81, 100]\n"
     ]
    }
   ],
   "source": [
    "l=[1,2,3,4,5,6,7,8,9,10]\n",
    "l2=list(map(lambda x:x*x,l))\n",
    "print(\"Given list:\",l)\n",
    "print(l2)"
   ]
  },
  {
   "cell_type": "markdown",
   "id": "b90ce0a8-24e6-4da9-a499-8cfe73c14d72",
   "metadata": {},
   "source": [
    "##### Write a python program to convert the given list of integers into tuple of strings.USe map and lambda functions."
   ]
  },
  {
   "cell_type": "code",
   "execution_count": 9,
   "id": "dfe4e997-490e-4d73-a878-65214c5755d2",
   "metadata": {},
   "outputs": [
    {
     "name": "stdout",
     "output_type": "stream",
     "text": [
      "Given list: [1, 2, 3, 4, 5, 6, 7, 8, 9, 10]\n",
      "('1', '2', '3', '4', '5', '6', '7', '8', '9', '10')\n"
     ]
    }
   ],
   "source": [
    "l=[1,2,3,4,5,6,7,8,9,10]\n",
    "l2=tuple(map(lambda x:str(x),l))\n",
    "print(\"Given list:\",l)\n",
    "print(l2)"
   ]
  },
  {
   "cell_type": "markdown",
   "id": "a38987fc-c141-454b-be25-dc2d3fe50d2a",
   "metadata": {},
   "source": [
    "##### Write a python program using reduce function to compute the product of a list containing numbers from 1 to 25."
   ]
  },
  {
   "cell_type": "code",
   "execution_count": 10,
   "id": "5fad105f-fc98-4203-b846-4b13452f8ddd",
   "metadata": {},
   "outputs": [
    {
     "name": "stdout",
     "output_type": "stream",
     "text": [
      "Given list: [1, 2, 3, 4, 5, 6, 7, 8, 9, 10, 11, 12, 13, 14, 15, 16, 17, 18, 19, 20, 21, 22, 23, 24, 25]\n"
     ]
    }
   ],
   "source": [
    "l=[1,2,3,4,5,6,7,8,9,10,11,12,13,14,15,16,17,18,19,20,21,22,23,24,25]\n",
    "print(\"Given list:\",l)"
   ]
  },
  {
   "cell_type": "code",
   "execution_count": 15,
   "id": "5766ab48-d8ec-4bff-8490-8d668dfd153f",
   "metadata": {},
   "outputs": [
    {
     "name": "stdout",
     "output_type": "stream",
     "text": [
      "Required List: 15511210043330985984000000\n"
     ]
    }
   ],
   "source": [
    "from functools import reduce\n",
    "l2=reduce(lambda a,b:a*b,l)\n",
    "print(\"Required List:\",l2)"
   ]
  },
  {
   "cell_type": "markdown",
   "id": "07f53a5b-0e4b-4675-8840-495ad97069a1",
   "metadata": {},
   "source": [
    "##### Write a python program to filter the numbers in a given list that are divisible by 2 and 3 using the filter function."
   ]
  },
  {
   "cell_type": "code",
   "execution_count": 4,
   "id": "c54d1ed3-deb5-40c4-a989-ffdb4d85ce3e",
   "metadata": {},
   "outputs": [
    {
     "name": "stdout",
     "output_type": "stream",
     "text": [
      "Given List: [2, 3, 6, 9, 27, 60, 90, 120, 55, 46]\n"
     ]
    }
   ],
   "source": [
    "l=[2,3,6,9,27,60,90,120,55,46]\n",
    "print(\"Given List:\",l)"
   ]
  },
  {
   "cell_type": "code",
   "execution_count": 7,
   "id": "8c03dffa-1dae-41c8-91d1-5bf7bb523080",
   "metadata": {},
   "outputs": [
    {
     "name": "stdout",
     "output_type": "stream",
     "text": [
      "No is divisible by 2 and 3: [6, 60, 90, 120]\n"
     ]
    }
   ],
   "source": [
    "l2=list(filter(lambda x:(x % 2== 0 and x % 3 == 0),l))\n",
    "print(\"No is divisible by 2 and 3:\",l2)"
   ]
  },
  {
   "cell_type": "markdown",
   "id": "29b2e034-a584-4423-89fb-152df97f7df7",
   "metadata": {},
   "source": [
    "##### Write a python program to find palindrome in the given list of strings using lambda and filter function ."
   ]
  },
  {
   "cell_type": "code",
   "execution_count": 1,
   "id": "fcfd8ff5-e4d3-40ae-8f4f-11262846338f",
   "metadata": {},
   "outputs": [
    {
     "name": "stdout",
     "output_type": "stream",
     "text": [
      "Given List: ['python', 'php', 'aba', 'radar', 'level']\n"
     ]
    }
   ],
   "source": [
    "l=['python','php','aba','radar','level']\n",
    "print(\"Given List:\",l)\n"
   ]
  },
  {
   "cell_type": "code",
   "execution_count": 3,
   "id": "bc9a0ef7-9dad-4fad-b778-5c51c1a6c1e9",
   "metadata": {},
   "outputs": [
    {
     "name": "stdout",
     "output_type": "stream",
     "text": [
      "Reversed List: ['php', 'aba', 'radar', 'level']\n"
     ]
    }
   ],
   "source": [
    "l2 = list(filter(lambda x: (x == \"\".join(reversed(x))), l))\n",
    "print(\"Reversed List:\",l2)"
   ]
  }
 ],
 "metadata": {
  "kernelspec": {
   "display_name": "Python 3 (ipykernel)",
   "language": "python",
   "name": "python3"
  },
  "language_info": {
   "codemirror_mode": {
    "name": "ipython",
    "version": 3
   },
   "file_extension": ".py",
   "mimetype": "text/x-python",
   "name": "python",
   "nbconvert_exporter": "python",
   "pygments_lexer": "ipython3",
   "version": "3.10.8"
  }
 },
 "nbformat": 4,
 "nbformat_minor": 5
}
