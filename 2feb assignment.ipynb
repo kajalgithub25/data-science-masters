{
 "cells": [
  {
   "cell_type": "markdown",
   "id": "17413a04-6d3c-4b73-8346-3f76c6dbb535",
   "metadata": {},
   "source": [
    "##### What are the characteristics of the tuples? is tuple immutable?"
   ]
  },
  {
   "cell_type": "code",
   "execution_count": null,
   "id": "8c5caf8d-0e32-42de-840d-69c8ca71b1e7",
   "metadata": {},
   "outputs": [],
   "source": [
    "Tuples are one of the four built-in data types in Python and used to store collections of data, the other 3 are List, Set, and Dictionary, all with different qualities ...\n",
    "\n",
    "The characteristics of a Python tuple are:\n",
    "1-Tuples are ordered, indexed collections of data. Similar to string indices, the first value in the tuple will have the index [0], the second value [1], and so on. \n",
    "2-Tuples can store duplicate values.\n",
    "3-Once data is assigned to a tuple, the values cannot be changed.\n",
    "4-Tuples allow you to store several data items in one variable. You can choose to store only one kind of data in a tuple or mix it up as needed.\n",
    "5-These are immutable.\n",
    "\n",
    "Yes,Tuples are immutable\n"
   ]
  },
  {
   "cell_type": "markdown",
   "id": "3177a4b6-d0bd-4f4c-a0cb-9305727dc763",
   "metadata": {
    "jupyter": {
     "source_hidden": true
    },
    "tags": []
   },
   "source": [
    "##### What are two tuple methods in python ? Give an example of each method .Give a reason why tuple have only two in built methods as compared to lists."
   ]
  },
  {
   "cell_type": "code",
   "execution_count": null,
   "id": "4a6e9433-5c15-45d6-9dc8-60ac82342fcb",
   "metadata": {},
   "outputs": [],
   "source": [
    "Two tuple method in python:-\n",
    "1- count() - Returns the number of times a specified value occurs in a tuple"
   ]
  },
  {
   "cell_type": "code",
   "execution_count": 9,
   "id": "3a559383-4546-47cc-93e4-27018c02d29a",
   "metadata": {},
   "outputs": [
    {
     "data": {
      "text/plain": [
       "4"
      ]
     },
     "execution_count": 9,
     "metadata": {},
     "output_type": "execute_result"
    }
   ],
   "source": [
    "# count the value\n",
    "a = (1,1,2.67,98,2,67,89,56,4,3,3,3,3)\n",
    "a.count(3)"
   ]
  },
  {
   "cell_type": "code",
   "execution_count": null,
   "id": "2e39d5d4-7606-4936-873d-59f2049275d8",
   "metadata": {},
   "outputs": [],
   "source": [
    "2-index() - Searches the tuple for a specified value and returns the position of where it was found"
   ]
  },
  {
   "cell_type": "code",
   "execution_count": 5,
   "id": "87e0fc41-3f26-461b-ba1f-fbcd25883a96",
   "metadata": {},
   "outputs": [
    {
     "name": "stdout",
     "output_type": "stream",
     "text": [
      "p\n",
      "a\n",
      "z\n",
      "('p', 'r', 'o', 'g', 'r', 'a', 'm', 'i')\n"
     ]
    }
   ],
   "source": [
    "# accessing tuple elements using indexing\n",
    "letters = (\"p\", \"r\", \"o\", \"g\", \"r\", \"a\", \"m\", \"i\", \"z\")\n",
    "\n",
    "print(letters[0])\n",
    "print(letters[5])\n",
    "print(letters[-1])\n",
    "print(letters[:-1])"
   ]
  },
  {
   "cell_type": "code",
   "execution_count": null,
   "id": "ee9523d2-8b0b-4efd-a174-e148c520dff0",
   "metadata": {},
   "outputs": [],
   "source": [
    "Tuple have only two in-built methods as compare to list becouse lists are mutable whereas tuples are immutable.\n",
    "As a tuple is an immutable data structure in python.\n",
    "Elements of Tuple cannot be modified once they are created.\n",
    "Because of this, there are only a limited number of methods available for working with tuples"
   ]
  },
  {
   "cell_type": "markdown",
   "id": "1c9d6a89-b8c5-499a-967e-f3eeaaefd966",
   "metadata": {},
   "source": [
    "##### Which collection data type in python do not allow duplicate items? write a code using a set to remove duplicates from given list."
   ]
  },
  {
   "cell_type": "code",
   "execution_count": null,
   "id": "d7b6e958-1cf3-4dc3-8e75-addde5a57f17",
   "metadata": {},
   "outputs": [],
   "source": [
    "Set in python do not allow duplicate items."
   ]
  },
  {
   "cell_type": "code",
   "execution_count": 25,
   "id": "1f343f4a-dccc-4788-a11d-38a92118f68c",
   "metadata": {},
   "outputs": [
    {
     "name": "stdout",
     "output_type": "stream",
     "text": [
      "[1, 2, 3, 4]\n"
     ]
    }
   ],
   "source": [
    "l=[1,1,1,2,1,3,1,4,2,1,2,2,2,3,2,4,3,1,3,2,3,3,3,4,4,1,4,2,4,3,4,4]\n",
    "l1=set(l)\n",
    "s=list(l1)\n",
    "print(s)\n"
   ]
  },
  {
   "cell_type": "markdown",
   "id": "7acd7ada-c4fc-4327-beea-2f22ae9c780b",
   "metadata": {},
   "source": [
    "##### Explain the difference between the union() and update() method for a set. Give an example of each method."
   ]
  },
  {
   "cell_type": "code",
   "execution_count": null,
   "id": "af6283b9-f4af-4d37-b3f7-30cb505f83e4",
   "metadata": {},
   "outputs": [],
   "source": [
    "They are very different. One set changes the set in place, while the other leaves the original set alone,\n",
    "and returns a copy instead.update() adds all missing elements to the set on which it is called whereas set. union() creates a new set. \n",
    "Consequently, the return value of set.\n",
    "update() is None (with side effects) and the return value of set.\n",
    "\n",
    "Union() Method;-\n",
    "This method is used to return the union of a set and the set of elements from one or more iterable like string, list, set.\n",
    "This method takes arbitrary number of iterable objects as argument, which means one or more iterable can be passed. \n",
    "If iterable other than set is passed, it first converts the iterable object to set object and then perform the union operation. It returns a newly created set, which contains all the elements ( distinct ) present in all the iterables.\n",
    "\n",
    "Syntax : < Set Object >.union( *<iterable object> ) : < Set Object >"
   ]
  },
  {
   "cell_type": "code",
   "execution_count": 16,
   "id": "5f25ddd7-e22a-41f3-a8d3-a914c27725a6",
   "metadata": {},
   "outputs": [
    {
     "data": {
      "text/plain": [
       "{1, 2, 3, 4, 5, 6, 7, 8, 9}"
      ]
     },
     "execution_count": 16,
     "metadata": {},
     "output_type": "execute_result"
    }
   ],
   "source": [
    "#### Example of union()\n",
    "a= {2,4,6,8,7,9}\n",
    "b={1,2,3,4,5,6}\n",
    "a.union(b)"
   ]
  },
  {
   "cell_type": "code",
   "execution_count": null,
   "id": "b9021b07-c3cd-4c53-b33a-03d640338f1c",
   "metadata": {},
   "outputs": [],
   "source": [
    "Update() Method:-\n",
    "This method is used to return the union of a set and the set of elements from one or more iterable like string, list, set. \n",
    "It is very similar to union() method, with difference is that where union() method create and return a new set, \n",
    "containing all the elements ( distinct ) present in all the iterables, update() method updates the set on which this method is called \n",
    "with all the distinct elements present in all the iterables.\n",
    "\n",
    "Syntax : < Set Object >.update( *<iterable object> ) "
   ]
  },
  {
   "cell_type": "code",
   "execution_count": 3,
   "id": "177a0906-e057-4e51-97b4-4ab3b7dbfbf3",
   "metadata": {},
   "outputs": [
    {
     "name": "stdout",
     "output_type": "stream",
     "text": [
      "{0, 'c', 1, 2, 'b', 3, 'a'}\n"
     ]
    }
   ],
   "source": [
    "##### Example of update()\n",
    "A= {'a','b','c'}\n",
    "B= {1,2,3}\n",
    "C={0}\n",
    "A.update(B,C)\n",
    "print(A)\n",
    " "
   ]
  },
  {
   "cell_type": "markdown",
   "id": "e184e956-5364-48aa-9b62-7f0f096aec5f",
   "metadata": {},
   "source": [
    "##### What is a dictionary ? Give an example. Also ,state  whether is ordered or unordered."
   ]
  },
  {
   "cell_type": "code",
   "execution_count": null,
   "id": "c5710cb5-a7be-4257-be14-d7f7a8b91787",
   "metadata": {},
   "outputs": [],
   "source": [
    "Dictionaries are used to store data values in key:value pairs.\n",
    "A dictionary is a collection which is ordered*, changeable and do not allow duplicates.\n",
    "Dictionaries are written with curly brackets, and have keys and values. key:value pairs separated by commas inside curly brackets.\n",
    "Dictionaries are optimized to retrieve values when the key is known. A dictionary is a collection which is ordered*,\n",
    "changeable and do not allow duplicates.\n",
    "As of Python version 3.7, dictionaries are ordered.Dictionaries are changeable, meaning that we can change, add or remove items\n",
    "after the dictionary has been created.The values in dictionary items can be of any data type:\n",
    "Example\n",
    "String, int, boolean, and list data types."
   ]
  },
  {
   "cell_type": "code",
   "execution_count": 9,
   "id": "9a10a903-a909-4768-b73e-d89dfe99c954",
   "metadata": {},
   "outputs": [
    {
     "name": "stdout",
     "output_type": "stream",
     "text": [
      "{'brand': 'puma', 'type': 'tshirt', 'date': 2019, 'city': 'chandigarh'}\n"
     ]
    }
   ],
   "source": [
    "##### Example of dictionary\n",
    "dict={\"brand\":\"puma\",\n",
    "      \"type\":\"tshirt\",\n",
    "      \"date\":2019,\n",
    "      \"city\":\"chandigarh\"\n",
    "     }\n",
    "                \n",
    "\n",
    "print(dict)"
   ]
  },
  {
   "cell_type": "markdown",
   "id": "1168c1a1-1e39-44c5-96cc-7729e843f405",
   "metadata": {},
   "source": [
    "##### Can we create nested dictionary? if so, please give an example by creating a simple one level nested dictionary."
   ]
  },
  {
   "cell_type": "code",
   "execution_count": null,
   "id": "c23d5e21-47aa-49a8-b652-2b512b0de157",
   "metadata": {},
   "outputs": [],
   "source": [
    "Yes,we can create a nested dictionary."
   ]
  },
  {
   "cell_type": "code",
   "execution_count": 23,
   "id": "ba10e922-b9ec-4a4e-a70e-e48cd2dc30ea",
   "metadata": {},
   "outputs": [
    {
     "name": "stdout",
     "output_type": "stream",
     "text": [
      "{'family1': {'sita', 'john', 'ram', 'gita'}, 'family2': {'prakash', 'jay', 'aliza'}, 'family3': {'riya', 'raman', 'raj'}}\n"
     ]
    }
   ],
   "source": [
    "##### Example of nested dictionary\n",
    "survey={\"family1\":{\"sita\",\"ram\",\"gita\",\"john\"},\n",
    "        \"family2\":{\"jay\",\"prakash\",\"aliza\"},\n",
    "        \"family3\":{\"raj\",\"raman\",\"riya\"}\n",
    "       }\n",
    "print(survey)"
   ]
  },
  {
   "cell_type": "markdown",
   "id": "3255f329-2cd3-4b06-9bd2-205459cea553",
   "metadata": {},
   "source": [
    "##### Using setdefault() method,create key named topics in the given dictionary amd also add the value of the key as this list ."
   ]
  },
  {
   "cell_type": "code",
   "execution_count": 1,
   "id": "83880525-4f86-400a-9925-fc6300ffe007",
   "metadata": {},
   "outputs": [
    {
     "name": "stdout",
     "output_type": "stream",
     "text": [
      "Before adding key values: ['Python', 'Machine Learning', 'Deep Learning']\n"
     ]
    }
   ],
   "source": [
    "l=['Python','Machine Learning','Deep Learning']\n",
    "print(\"Before adding key values:\",l)"
   ]
  },
  {
   "cell_type": "code",
   "execution_count": 8,
   "id": "ddf7e3d6-603c-4c3a-90b7-369cec6d8a63",
   "metadata": {},
   "outputs": [
    {
     "name": "stdout",
     "output_type": "stream",
     "text": [
      "after adding key values: {'language': 'Python', 'course': 'Data Science Master', 'course Content': {'Machine Learning', 'python', 'Deep Learning'}}\n"
     ]
    }
   ],
   "source": [
    "dict1={'language':'Python','course':'Data Science Master'}\n",
    "dict1.setdefault('course Content',{\"python\", \"Machine Learning\" ,\"Deep Learning\"})\n",
    "print(\"after adding key values:\",dict1)"
   ]
  },
  {
   "cell_type": "markdown",
   "id": "ec4b37fe-fc2c-495d-a8eb-e031b241e882",
   "metadata": {},
   "source": [
    "##### What are the three view object in dictionaries? use the three in built methods in python to display these three view objects for the given dictionary."
   ]
  },
  {
   "cell_type": "code",
   "execution_count": null,
   "id": "d11968e8-f7b8-411a-b034-84451b119dc0",
   "metadata": {},
   "outputs": [],
   "source": [
    "The main view objects of dictionary in python are keys, values and items. They provide a non-constant view of the dictionary’s entries.\n",
    "Keys holds all the keys of the dictionary, the values objects holds all the values, whereas the items holds the key-value pairs."
   ]
  },
  {
   "cell_type": "code",
   "execution_count": 17,
   "id": "3a09f415-4bb8-4583-a9d2-fc1d7bf2b877",
   "metadata": {},
   "outputs": [
    {
     "name": "stdout",
     "output_type": "stream",
     "text": [
      "{'Sport': 'Cricket', 'Team': ['India', 'Australia', 'England', 'South Africa', 'Sri Lanka', 'New Zealand']}\n",
      "dict_keys(['Sport', 'Team'])\n",
      "dict_values(['Cricket', ['India', 'Australia', 'England', 'South Africa', 'Sri Lanka', 'New Zealand']])\n",
      "dict_items([('Sport', 'Cricket'), ('Team', ['India', 'Australia', 'England', 'South Africa', 'Sri Lanka', 'New Zealand'])])\n"
     ]
    }
   ],
   "source": [
    "giv_dict={'Sport':'Cricket','Team':['India','Australia','England','South Africa','Sri Lanka',\"New Zealand\"]}\n",
    "k=giv_dict.keys()\n",
    "v=giv_dict.values()\n",
    "i=giv_dict.items()\n",
    "print(giv_dict)\n",
    "print(k)\n",
    "print(v)\n",
    "print(i)\n",
    "         "
   ]
  }
 ],
 "metadata": {
  "kernelspec": {
   "display_name": "Python 3 (ipykernel)",
   "language": "python",
   "name": "python3"
  },
  "language_info": {
   "codemirror_mode": {
    "name": "ipython",
    "version": 3
   },
   "file_extension": ".py",
   "mimetype": "text/x-python",
   "name": "python",
   "nbconvert_exporter": "python",
   "pygments_lexer": "ipython3",
   "version": "3.10.8"
  }
 },
 "nbformat": 4,
 "nbformat_minor": 5
}
