{
 "cells": [
  {
   "cell_type": "markdown",
   "id": "663689ed-b8e2-4c28-bb80-062eaa2d5793",
   "metadata": {
    "tags": []
   },
   "source": [
    "### Who develop python programming language?"
   ]
  },
  {
   "cell_type": "code",
   "execution_count": null,
   "id": "3df97c5f-23fa-4e4a-9c4c-e5d2bc9dba9e",
   "metadata": {},
   "outputs": [],
   "source": [
    "Guido van Rossum"
   ]
  },
  {
   "cell_type": "markdown",
   "id": "e10bb5f1-a2a4-40ef-93d4-dc807eac8eb5",
   "metadata": {},
   "source": [
    "### Which type of programming does python support?"
   ]
  },
  {
   "cell_type": "code",
   "execution_count": null,
   "id": "b375e86c-8329-4072-8e09-59d2151ed698",
   "metadata": {},
   "outputs": [],
   "source": [
    "Object oriented programming language"
   ]
  },
  {
   "cell_type": "markdown",
   "id": "a1ba9654-5f6b-4579-b170-b9af41cd4a76",
   "metadata": {},
   "source": [
    "### Is python case sensitive while dealing with identifiers?"
   ]
  },
  {
   "cell_type": "code",
   "execution_count": null,
   "id": "01c40e27-6bf0-44c9-bd32-e6066ad8b145",
   "metadata": {},
   "outputs": [],
   "source": [
    "Yes"
   ]
  },
  {
   "cell_type": "markdown",
   "id": "4c3ae435-28c4-434c-9073-444559a3ef35",
   "metadata": {},
   "source": [
    "### What is correct extension of python file?"
   ]
  },
  {
   "cell_type": "code",
   "execution_count": null,
   "id": "9f425020-ef06-4e59-995b-bf83ab97d624",
   "metadata": {},
   "outputs": [],
   "source": [
    ".pyc"
   ]
  },
  {
   "cell_type": "markdown",
   "id": "e8d9a2f7-c4b4-410e-86bd-db33bad0620b",
   "metadata": {},
   "source": [
    "### Is python code compiled or interpreted?"
   ]
  },
  {
   "cell_type": "code",
   "execution_count": null,
   "id": "3df159b5-eeac-4031-9997-1d84100ba931",
   "metadata": {},
   "outputs": [],
   "source": [
    "Python is an interpreted language"
   ]
  },
  {
   "cell_type": "markdown",
   "id": "011540ff-a0cc-4adc-a0df-c9f3061b56b1",
   "metadata": {},
   "source": [
    "### Name few blocks of code used to define in python language"
   ]
  },
  {
   "cell_type": "code",
   "execution_count": null,
   "id": "7c7de10f-f333-4283-b62a-72a89ee8d318",
   "metadata": {},
   "outputs": [],
   "source": [
    "a module,a function body, and a class definition."
   ]
  },
  {
   "cell_type": "markdown",
   "id": "ab7c2ecd-ad37-4a2f-96fb-565305a28efb",
   "metadata": {},
   "source": [
    "### State a character used to give single-line comments in python?"
   ]
  },
  {
   "cell_type": "code",
   "execution_count": null,
   "id": "3e5f7197-3c42-4d5c-afbf-112a181c67d8",
   "metadata": {},
   "outputs": [],
   "source": [
    "Hash symbol(#)"
   ]
  },
  {
   "cell_type": "markdown",
   "id": "d29cadcf-98d8-4298-a0e8-673703ce97be",
   "metadata": {},
   "source": [
    "### Mention functions which can help us find the version of python that we are currently working on?"
   ]
  },
  {
   "cell_type": "code",
   "execution_count": null,
   "id": "5d5bed3d-6646-4696-88e2-3613a0216c95",
   "metadata": {},
   "outputs": [],
   "source": [
    "sys.version"
   ]
  },
  {
   "cell_type": "markdown",
   "id": "8919bb4b-3f8e-41de-b154-b3e690cd265c",
   "metadata": {},
   "source": [
    "### Python supports the creation of anonymous function at runtime, using a construct called ?"
   ]
  },
  {
   "cell_type": "code",
   "execution_count": null,
   "id": "234e85c3-a7b7-4587-b458-db41302a4164",
   "metadata": {},
   "outputs": [],
   "source": [
    "Lambda"
   ]
  },
  {
   "cell_type": "markdown",
   "id": "1ce8de9a-cec2-4b61-a0a6-f6504113e5c2",
   "metadata": {},
   "source": [
    "### What does pip stand for python?"
   ]
  },
  {
   "cell_type": "code",
   "execution_count": null,
   "id": "50514916-ad89-4def-935d-e0fa807a89cf",
   "metadata": {},
   "outputs": [],
   "source": [
    "It stands for Pip install Packages"
   ]
  },
  {
   "cell_type": "markdown",
   "id": "ba88a2b5-afc0-4ed3-a204-aa81eba33cb3",
   "metadata": {},
   "source": [
    "### Mention a few built-in functions in python?"
   ]
  },
  {
   "cell_type": "code",
   "execution_count": null,
   "id": "cb47f07c-486e-41cb-8623-de49730d2c77",
   "metadata": {},
   "outputs": [],
   "source": [
    "int()\n",
    "iter()\n",
    "float()\n",
    "format()\n",
    "abs()\n",
    "all()\n",
    "bool()\n",
    "input()\n",
    "list()\n",
    "map()\n",
    "locals()\n",
    "max()\n",
    "min()\n",
    "next()\n",
    "object()\n",
    "open()\n",
    "print()\n",
    "set()\n",
    "round()\n",
    "str()\n",
    "sum()\n",
    "tuple()\n",
    "type()\n"
   ]
  },
  {
   "cell_type": "markdown",
   "id": "0e938b6f-9c86-4a52-8998-81907b02dfcd",
   "metadata": {},
   "source": [
    "### What is maximum possible length of an identifier in python?"
   ]
  },
  {
   "cell_type": "code",
   "execution_count": null,
   "id": "57f60bf6-2fe3-49f2-9f0c-5baea13b4beb",
   "metadata": {},
   "outputs": [],
   "source": [
    "79 characters"
   ]
  },
  {
   "cell_type": "markdown",
   "id": "85aea10a-3c29-47ef-b5a2-bec0d0a3f694",
   "metadata": {},
   "source": [
    "### What are the benefits of using python?"
   ]
  },
  {
   "cell_type": "code",
   "execution_count": null,
   "id": "3cbf2da6-3142-4688-a566-bbec100ecdda",
   "metadata": {},
   "outputs": [],
   "source": [
    "1-Easy to Read, Learn and Write. Python is a high-level programming language that has English-like syntax. \n",
    "2-Improved Productivity.\n",
    "3-Interpreted Language. \n",
    "4-Dynamically Typed. \n",
    "5-Free and Open-Source.\n",
    "6-Vast Libraries Support. \n",
    "7-Portability. \n",
    "8-Supportive community."
   ]
  },
  {
   "cell_type": "markdown",
   "id": "eaef2391-a365-4bf4-9052-53125df44a70",
   "metadata": {},
   "source": [
    "### How is memory managed in python?"
   ]
  },
  {
   "cell_type": "code",
   "execution_count": null,
   "id": "d4b796aa-9789-4f19-bd3d-7efd59404f23",
   "metadata": {},
   "outputs": [],
   "source": [
    "Python uses the dynamic memory allocation which is managed by the Heap data structure"
   ]
  },
  {
   "cell_type": "markdown",
   "id": "c8aa9578-98d5-437a-b1f5-8f788f484776",
   "metadata": {},
   "source": [
    "### How to install python on windows and set path variable?"
   ]
  },
  {
   "cell_type": "code",
   "execution_count": null,
   "id": "e0bb6c18-3a29-487a-b3ba-a4741eac1f87",
   "metadata": {},
   "outputs": [],
   "source": [
    "1-Right-clicking This PC and going to Properties.\n",
    "\n",
    "2-Clicking on the Advanced system settings in the menu on the left.\n",
    "\n",
    "3-Clicking on the Environment Variables button on the bottom right.\n",
    "\n",
    "4-In the System variables section, selecting the Path variable and clicking on Edit. The next screen will show all the directories that are currently a part of the PATH variable.\n",
    "\n",
    "5-Clicking on New and entering Python’s install directory.\n",
    "\n"
   ]
  },
  {
   "cell_type": "markdown",
   "id": "4914a693-366b-4791-9364-a2c478ce0bc2",
   "metadata": {},
   "source": [
    "### Is indentation required in python?"
   ]
  },
  {
   "cell_type": "code",
   "execution_count": null,
   "id": "9b86631f-ed11-4a87-ac73-7d3c09a9f03b",
   "metadata": {},
   "outputs": [],
   "source": [
    "Identation is important to python."
   ]
  }
 ],
 "metadata": {
  "kernelspec": {
   "display_name": "",
   "name": ""
  },
  "language_info": {
   "name": ""
  }
 },
 "nbformat": 4,
 "nbformat_minor": 5
}
